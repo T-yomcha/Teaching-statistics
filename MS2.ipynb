{
  "nbformat": 4,
  "nbformat_minor": 0,
  "metadata": {
    "colab": {
      "provenance": []
    },
    "kernelspec": {
      "name": "python3",
      "display_name": "Python 3"
    },
    "language_info": {
      "name": "python"
    }
  },
  "cells": [
    {
      "cell_type": "code",
      "execution_count": 1,
      "metadata": {
        "colab": {
          "base_uri": "https://localhost:8080/",
          "height": 334
        },
        "id": "L3Tgvz4-9ceA",
        "outputId": "4cbdf0b7-1b4d-47d1-9322-764c0018e1d4"
      },
      "outputs": [
        {
          "output_type": "display_data",
          "data": {
            "text/plain": [
              "<IPython.core.display.HTML object>"
            ],
            "text/html": [
              "\n",
              "     <input type=\"file\" id=\"files-bb99e76f-d623-4f6c-b9dc-b6768dfcd808\" name=\"files[]\" multiple disabled\n",
              "        style=\"border:none\" />\n",
              "     <output id=\"result-bb99e76f-d623-4f6c-b9dc-b6768dfcd808\">\n",
              "      Upload widget is only available when the cell has been executed in the\n",
              "      current browser session. Please rerun this cell to enable.\n",
              "      </output>\n",
              "      <script>// Copyright 2017 Google LLC\n",
              "//\n",
              "// Licensed under the Apache License, Version 2.0 (the \"License\");\n",
              "// you may not use this file except in compliance with the License.\n",
              "// You may obtain a copy of the License at\n",
              "//\n",
              "//      http://www.apache.org/licenses/LICENSE-2.0\n",
              "//\n",
              "// Unless required by applicable law or agreed to in writing, software\n",
              "// distributed under the License is distributed on an \"AS IS\" BASIS,\n",
              "// WITHOUT WARRANTIES OR CONDITIONS OF ANY KIND, either express or implied.\n",
              "// See the License for the specific language governing permissions and\n",
              "// limitations under the License.\n",
              "\n",
              "/**\n",
              " * @fileoverview Helpers for google.colab Python module.\n",
              " */\n",
              "(function(scope) {\n",
              "function span(text, styleAttributes = {}) {\n",
              "  const element = document.createElement('span');\n",
              "  element.textContent = text;\n",
              "  for (const key of Object.keys(styleAttributes)) {\n",
              "    element.style[key] = styleAttributes[key];\n",
              "  }\n",
              "  return element;\n",
              "}\n",
              "\n",
              "// Max number of bytes which will be uploaded at a time.\n",
              "const MAX_PAYLOAD_SIZE = 100 * 1024;\n",
              "\n",
              "function _uploadFiles(inputId, outputId) {\n",
              "  const steps = uploadFilesStep(inputId, outputId);\n",
              "  const outputElement = document.getElementById(outputId);\n",
              "  // Cache steps on the outputElement to make it available for the next call\n",
              "  // to uploadFilesContinue from Python.\n",
              "  outputElement.steps = steps;\n",
              "\n",
              "  return _uploadFilesContinue(outputId);\n",
              "}\n",
              "\n",
              "// This is roughly an async generator (not supported in the browser yet),\n",
              "// where there are multiple asynchronous steps and the Python side is going\n",
              "// to poll for completion of each step.\n",
              "// This uses a Promise to block the python side on completion of each step,\n",
              "// then passes the result of the previous step as the input to the next step.\n",
              "function _uploadFilesContinue(outputId) {\n",
              "  const outputElement = document.getElementById(outputId);\n",
              "  const steps = outputElement.steps;\n",
              "\n",
              "  const next = steps.next(outputElement.lastPromiseValue);\n",
              "  return Promise.resolve(next.value.promise).then((value) => {\n",
              "    // Cache the last promise value to make it available to the next\n",
              "    // step of the generator.\n",
              "    outputElement.lastPromiseValue = value;\n",
              "    return next.value.response;\n",
              "  });\n",
              "}\n",
              "\n",
              "/**\n",
              " * Generator function which is called between each async step of the upload\n",
              " * process.\n",
              " * @param {string} inputId Element ID of the input file picker element.\n",
              " * @param {string} outputId Element ID of the output display.\n",
              " * @return {!Iterable<!Object>} Iterable of next steps.\n",
              " */\n",
              "function* uploadFilesStep(inputId, outputId) {\n",
              "  const inputElement = document.getElementById(inputId);\n",
              "  inputElement.disabled = false;\n",
              "\n",
              "  const outputElement = document.getElementById(outputId);\n",
              "  outputElement.innerHTML = '';\n",
              "\n",
              "  const pickedPromise = new Promise((resolve) => {\n",
              "    inputElement.addEventListener('change', (e) => {\n",
              "      resolve(e.target.files);\n",
              "    });\n",
              "  });\n",
              "\n",
              "  const cancel = document.createElement('button');\n",
              "  inputElement.parentElement.appendChild(cancel);\n",
              "  cancel.textContent = 'Cancel upload';\n",
              "  const cancelPromise = new Promise((resolve) => {\n",
              "    cancel.onclick = () => {\n",
              "      resolve(null);\n",
              "    };\n",
              "  });\n",
              "\n",
              "  // Wait for the user to pick the files.\n",
              "  const files = yield {\n",
              "    promise: Promise.race([pickedPromise, cancelPromise]),\n",
              "    response: {\n",
              "      action: 'starting',\n",
              "    }\n",
              "  };\n",
              "\n",
              "  cancel.remove();\n",
              "\n",
              "  // Disable the input element since further picks are not allowed.\n",
              "  inputElement.disabled = true;\n",
              "\n",
              "  if (!files) {\n",
              "    return {\n",
              "      response: {\n",
              "        action: 'complete',\n",
              "      }\n",
              "    };\n",
              "  }\n",
              "\n",
              "  for (const file of files) {\n",
              "    const li = document.createElement('li');\n",
              "    li.append(span(file.name, {fontWeight: 'bold'}));\n",
              "    li.append(span(\n",
              "        `(${file.type || 'n/a'}) - ${file.size} bytes, ` +\n",
              "        `last modified: ${\n",
              "            file.lastModifiedDate ? file.lastModifiedDate.toLocaleDateString() :\n",
              "                                    'n/a'} - `));\n",
              "    const percent = span('0% done');\n",
              "    li.appendChild(percent);\n",
              "\n",
              "    outputElement.appendChild(li);\n",
              "\n",
              "    const fileDataPromise = new Promise((resolve) => {\n",
              "      const reader = new FileReader();\n",
              "      reader.onload = (e) => {\n",
              "        resolve(e.target.result);\n",
              "      };\n",
              "      reader.readAsArrayBuffer(file);\n",
              "    });\n",
              "    // Wait for the data to be ready.\n",
              "    let fileData = yield {\n",
              "      promise: fileDataPromise,\n",
              "      response: {\n",
              "        action: 'continue',\n",
              "      }\n",
              "    };\n",
              "\n",
              "    // Use a chunked sending to avoid message size limits. See b/62115660.\n",
              "    let position = 0;\n",
              "    do {\n",
              "      const length = Math.min(fileData.byteLength - position, MAX_PAYLOAD_SIZE);\n",
              "      const chunk = new Uint8Array(fileData, position, length);\n",
              "      position += length;\n",
              "\n",
              "      const base64 = btoa(String.fromCharCode.apply(null, chunk));\n",
              "      yield {\n",
              "        response: {\n",
              "          action: 'append',\n",
              "          file: file.name,\n",
              "          data: base64,\n",
              "        },\n",
              "      };\n",
              "\n",
              "      let percentDone = fileData.byteLength === 0 ?\n",
              "          100 :\n",
              "          Math.round((position / fileData.byteLength) * 100);\n",
              "      percent.textContent = `${percentDone}% done`;\n",
              "\n",
              "    } while (position < fileData.byteLength);\n",
              "  }\n",
              "\n",
              "  // All done.\n",
              "  yield {\n",
              "    response: {\n",
              "      action: 'complete',\n",
              "    }\n",
              "  };\n",
              "}\n",
              "\n",
              "scope.google = scope.google || {};\n",
              "scope.google.colab = scope.google.colab || {};\n",
              "scope.google.colab._files = {\n",
              "  _uploadFiles,\n",
              "  _uploadFilesContinue,\n",
              "};\n",
              "})(self);\n",
              "</script> "
            ]
          },
          "metadata": {}
        },
        {
          "output_type": "stream",
          "name": "stdout",
          "text": [
            "Saving 1.txt to 1.txt\n",
            "Saving 2.txt to 2.txt\n",
            "Saving 3.txt to 3.txt\n",
            "Saving 4.txt to 4.txt\n"
          ]
        },
        {
          "output_type": "execute_result",
          "data": {
            "text/plain": [
              "{'1.txt': b'24.991737569234893\\r\\n33.37248580580877\\r\\n27.839707972425124\\r\\n39.75323609795771\\r\\n41.96429672533846\\r\\n38.096019409099696\\r\\n32.72497840742014\\r\\n36.618046828007856\\r\\n32.705530669369786\\r\\n34.230509871554744\\r\\n32.21566578007563\\r\\n37.43766709230607\\r\\n35.1805319377291\\r\\n40.507530072254845\\r\\n31.67623930786801\\r\\n25.17978880227541\\r\\n26.346397848334753\\r\\n25.67444364676745\\r\\n42.377875931373225\\r\\n26.217194089943323\\r\\n25.940746658970046\\r\\n27.40266100594168\\r\\n41.344350505251626\\r\\n39.43705164622651\\r\\n33.51216587592562\\r\\n31.02929301575721\\r\\n28.122559573276614\\r\\n29.119925504816074\\r\\n28.08912783637487\\r\\n36.667662622080066\\r\\n32.378043974489096\\r\\n24.32451485048078\\r\\n23.990917981399356\\r\\n35.8285057878582\\r\\n34.13953259868319\\r\\n32.232403666993385\\r\\n31.288665036872157\\r\\n27.961432016668333\\r\\n21.80312821551889\\r\\n31.142144185291126\\r\\n30.932338975690783\\r\\n26.566654823619025\\r\\n24.860695559851678\\r\\n37.45390292169186\\r\\n30.493919258688127\\r\\n28.655509339508654\\r\\n33.70661494624279\\r\\n37.60957793133333\\r\\n28.714751570591726\\r\\n28.540769884351494\\r\\n37.60437893066546\\r\\n40.73227674576815\\r\\n35.50302908488116\\r\\n24.099689381137473\\r\\n32.891813142545466\\r\\n23.10023101467294\\r\\n34.898183675212216\\r\\n31.802385101429103\\r\\n31.0837461457635\\r\\n29.353699969585854\\r\\n42.891514928709945\\r\\n37.9956625032788\\r\\n31.74959628824818\\r\\n26.812253548791176\\r\\n31.727086600496392\\r\\n28.163858987634192\\r\\n33.51969608484248\\r\\n39.44120687337602\\r\\n37.966083675646956\\r\\n36.97981785030475\\r\\n26.966193305641234\\r\\n29.994152137013213\\r\\n28.709179679842496\\r\\n34.64658794498634\\r\\n29.333357475895948\\r\\n27.14865353468338\\r\\n35.08244151793498\\r\\n31.508496304026174\\r\\n38.10213760035452\\r\\n30.708168787369434\\r\\n35.92444475309408\\r\\n29.817570396611636\\r\\n36.826996326333855\\r\\n24.495573473454318\\r\\n32.915159011390074\\r\\n34.490836184470275\\r\\n29.89174244976159\\r\\n23.946837400795133\\r\\n36.820090397207295\\r\\n31.58204858841368\\r\\n30.98958563613403\\r\\n30.60531262272841\\r\\n20.937742417345255\\r\\n35.67075038171461\\r\\n26.914068384858705\\r\\n39.50731235948252\\r\\n31.112245740530675\\r\\n37.61868162789874\\r\\n24.930892458006298\\r\\n36.09392400012006\\r\\n',\n",
              " '2.txt': b'65.67106994637179\\r\\n67.29974386570443\\r\\n64.55596384328368\\r\\n45.47759718044945\\r\\n53.1436282841403\\r\\n82.31510926724582\\r\\n57.42069676437856\\r\\n61.32640922567253\\r\\n74.97843945792158\\r\\n72.32859765786446\\r\\n',\n",
              " '3.txt': b'39.98909531594562\\r\\n38.06619032363956\\r\\n38.12086160599217\\r\\n42.566566824655396\\r\\n38.16053589401596\\r\\n37.96096436421877\\r\\n40.864231853860694\\r\\n41.64690818974305\\r\\n40.096106938890095\\r\\n41.83908612241376\\r\\n40.42612979349113\\r\\n38.19005176722967\\r\\n38.46205790090489\\r\\n41.612281503233724\\r\\n41.1547394113668\\r\\n38.91085877690667\\r\\n40.1993096538666\\r\\n41.740286543286736\\r\\n40.33572809652857\\r\\n38.77275032323927\\r\\n38.57041670963594\\r\\n42.11414602560945\\r\\n38.91116175036308\\r\\n38.4479452515305\\r\\n38.82716681836375\\r\\n40.59937598504811\\r\\n39.356069294745176\\r\\n39.214225957635044\\r\\n41.395176546992985\\r\\n42.74172927925539\\r\\n40.55666250030116\\r\\n38.548797888949025\\r\\n41.0730872397776\\r\\n41.40556171922575\\r\\n38.087112386822184\\r\\n42.241739924158544\\r\\n40.876480849038856\\r\\n42.67263264383127\\r\\n39.285445492749794\\r\\n41.85178864702123\\r\\n39.4378600864405\\r\\n39.00326571394083\\r\\n40.525409653653256\\r\\n40.484182607493956\\r\\n37.942646194459414\\r\\n39.9105420920666\\r\\n41.08125457459491\\r\\n38.82428455030566\\r\\n40.18913257748957\\r\\n41.01890099264899\\r\\n40.136578569042534\\r\\n42.79113077397951\\r\\n41.16569581976192\\r\\n39.00850041845416\\r\\n40.36224851721747\\r\\n39.045681973623694\\r\\n41.61846571675129\\r\\n40.94481731885913\\r\\n41.81233789840118\\r\\n39.76437354329595\\r\\n42.66368581371035\\r\\n39.77351097079885\\r\\n40.55418663727678\\r\\n40.124103088104796\\r\\n38.90874355015206\\r\\n38.05981410875237\\r\\n39.03852073845278\\r\\n41.736607432527904\\r\\n40.753691483528456\\r\\n42.13998915231813\\r\\n42.13842972951825\\r\\n42.406567445895895\\r\\n42.28890818710097\\r\\n38.70427184058096\\r\\n41.787516789316\\r\\n39.833365907448496\\r\\n41.07767107895217\\r\\n42.69087979854965\\r\\n38.621998554797365\\r\\n38.78583421722188\\r\\n40.17572717046093\\r\\n40.50542739598177\\r\\n40.243148334781196\\r\\n42.42192287082654\\r\\n42.72981357577227\\r\\n39.67851270598603\\r\\n42.61992331032626\\r\\n41.223401439248015\\r\\n42.23788273559841\\r\\n38.012663190102245\\r\\n42.46999911853475\\r\\n42.790817588191494\\r\\n38.48474488083548\\r\\n38.250614533647244\\r\\n39.14584670634079\\r\\n40.65329610399358\\r\\n40.978208053400614\\r\\n41.10387957016299\\r\\n39.32186871060349\\r\\n40.008415768712304\\r\\n',\n",
              " '4.txt': b'71.71221166411466\\r\\n69.69318855345331\\r\\n72.28312965747047\\r\\n68.91883365627173\\r\\n68.93820312215949\\r\\n71.21540729424488\\r\\n69.09817682480056\\r\\n69.84816683125541\\r\\n70.23716079840138\\r\\n69.11204030214591\\r\\n'}"
            ]
          },
          "metadata": {},
          "execution_count": 1
        }
      ],
      "source": [
        "from google.colab import files\n",
        "files.upload()"
      ]
    },
    {
      "cell_type": "code",
      "source": [
        "with open('1.txt', 'r') as file:\n",
        "    data1 = file.readlines()\n",
        "    data1 = [float(line.strip()) for line in data1]\n",
        "print(data1)\n",
        "\n",
        "with open('2.txt', 'r') as file:\n",
        "    data2 = file.readlines()\n",
        "    data2 = [float(line.strip()) for line in data2]\n",
        "print(data2)\n",
        "\n",
        "with open('3.txt', 'r') as file:\n",
        "    data3 = file.readlines()\n",
        "    data3 = [float(line.strip()) for line in data3]\n",
        "print(data3)\n",
        "\n",
        "with open('4.txt', 'r') as file:\n",
        "    data4 = file.readlines()\n",
        "    data4 = [float(line.strip()) for line in data4]\n",
        "print(data4)"
      ],
      "metadata": {
        "colab": {
          "base_uri": "https://localhost:8080/"
        },
        "id": "uYyxVBVL_qe-",
        "outputId": "ef273564-6a29-439e-c1f0-c3f9ac99627e"
      },
      "execution_count": 15,
      "outputs": [
        {
          "output_type": "stream",
          "name": "stdout",
          "text": [
            "[24.991737569234893, 33.37248580580877, 27.839707972425124, 39.75323609795771, 41.96429672533846, 38.096019409099696, 32.72497840742014, 36.618046828007856, 32.705530669369786, 34.230509871554744, 32.21566578007563, 37.43766709230607, 35.1805319377291, 40.507530072254845, 31.67623930786801, 25.17978880227541, 26.346397848334753, 25.67444364676745, 42.377875931373225, 26.217194089943323, 25.940746658970046, 27.40266100594168, 41.344350505251626, 39.43705164622651, 33.51216587592562, 31.02929301575721, 28.122559573276614, 29.119925504816074, 28.08912783637487, 36.667662622080066, 32.378043974489096, 24.32451485048078, 23.990917981399356, 35.8285057878582, 34.13953259868319, 32.232403666993385, 31.288665036872157, 27.961432016668333, 21.80312821551889, 31.142144185291126, 30.932338975690783, 26.566654823619025, 24.860695559851678, 37.45390292169186, 30.493919258688127, 28.655509339508654, 33.70661494624279, 37.60957793133333, 28.714751570591726, 28.540769884351494, 37.60437893066546, 40.73227674576815, 35.50302908488116, 24.099689381137473, 32.891813142545466, 23.10023101467294, 34.898183675212216, 31.802385101429103, 31.0837461457635, 29.353699969585854, 42.891514928709945, 37.9956625032788, 31.74959628824818, 26.812253548791176, 31.727086600496392, 28.163858987634192, 33.51969608484248, 39.44120687337602, 37.966083675646956, 36.97981785030475, 26.966193305641234, 29.994152137013213, 28.709179679842496, 34.64658794498634, 29.333357475895948, 27.14865353468338, 35.08244151793498, 31.508496304026174, 38.10213760035452, 30.708168787369434, 35.92444475309408, 29.817570396611636, 36.826996326333855, 24.495573473454318, 32.915159011390074, 34.490836184470275, 29.89174244976159, 23.946837400795133, 36.820090397207295, 31.58204858841368, 30.98958563613403, 30.60531262272841, 20.937742417345255, 35.67075038171461, 26.914068384858705, 39.50731235948252, 31.112245740530675, 37.61868162789874, 24.930892458006298, 36.09392400012006]\n",
            "[65.67106994637179, 67.29974386570443, 64.55596384328368, 45.47759718044945, 53.1436282841403, 82.31510926724582, 57.42069676437856, 61.32640922567253, 74.97843945792158, 72.32859765786446]\n",
            "[39.98909531594562, 38.06619032363956, 38.12086160599217, 42.566566824655396, 38.16053589401596, 37.96096436421877, 40.864231853860694, 41.64690818974305, 40.096106938890095, 41.83908612241376, 40.42612979349113, 38.19005176722967, 38.46205790090489, 41.612281503233724, 41.1547394113668, 38.91085877690667, 40.1993096538666, 41.740286543286736, 40.33572809652857, 38.77275032323927, 38.57041670963594, 42.11414602560945, 38.91116175036308, 38.4479452515305, 38.82716681836375, 40.59937598504811, 39.356069294745176, 39.214225957635044, 41.395176546992985, 42.74172927925539, 40.55666250030116, 38.548797888949025, 41.0730872397776, 41.40556171922575, 38.087112386822184, 42.241739924158544, 40.876480849038856, 42.67263264383127, 39.285445492749794, 41.85178864702123, 39.4378600864405, 39.00326571394083, 40.525409653653256, 40.484182607493956, 37.942646194459414, 39.9105420920666, 41.08125457459491, 38.82428455030566, 40.18913257748957, 41.01890099264899, 40.136578569042534, 42.79113077397951, 41.16569581976192, 39.00850041845416, 40.36224851721747, 39.045681973623694, 41.61846571675129, 40.94481731885913, 41.81233789840118, 39.76437354329595, 42.66368581371035, 39.77351097079885, 40.55418663727678, 40.124103088104796, 38.90874355015206, 38.05981410875237, 39.03852073845278, 41.736607432527904, 40.753691483528456, 42.13998915231813, 42.13842972951825, 42.406567445895895, 42.28890818710097, 38.70427184058096, 41.787516789316, 39.833365907448496, 41.07767107895217, 42.69087979854965, 38.621998554797365, 38.78583421722188, 40.17572717046093, 40.50542739598177, 40.243148334781196, 42.42192287082654, 42.72981357577227, 39.67851270598603, 42.61992331032626, 41.223401439248015, 42.23788273559841, 38.012663190102245, 42.46999911853475, 42.790817588191494, 38.48474488083548, 38.250614533647244, 39.14584670634079, 40.65329610399358, 40.978208053400614, 41.10387957016299, 39.32186871060349, 40.008415768712304]\n",
            "[71.71221166411466, 69.69318855345331, 72.28312965747047, 68.91883365627173, 68.93820312215949, 71.21540729424488, 69.09817682480056, 69.84816683125541, 70.23716079840138, 69.11204030214591]\n"
          ]
        }
      ]
    },
    {
      "cell_type": "code",
      "source": [
        "import statistics\n",
        "mean1=statistics.mean(data1)\n",
        "stdev1=statistics.stdev(data1)\n",
        "n1=len(data1)\n",
        "print(f'Мат ожидание для 1: {mean1}')\n",
        "print(f'Стандартное отклонение для 1: {stdev1}')\n",
        "\n",
        "mean2=statistics.mean(data2)\n",
        "stdev2=statistics.stdev(data2)\n",
        "n2=len(data2)\n",
        "print(f'Мат ожидание для 2: {mean2}')\n",
        "print(f'Стандартное отклонение для 2: {stdev2}')\n",
        "\n",
        "mean3=statistics.mean(data3)\n",
        "stdev3=statistics.stdev(data3)\n",
        "n3=len(data3)\n",
        "print(f'Мат ожидание для 3: {mean3}')\n",
        "print(f'Стандартное отклонение для 3: {stdev3}')\n",
        "\n",
        "mean4=statistics.mean(data4)\n",
        "stdev4=statistics.stdev(data4)\n",
        "n4=len(data4)\n",
        "print(f'Мат ожидание для 4: {mean4}')\n",
        "print(f'Стандартное отклонение для 4: {stdev4}')"
      ],
      "metadata": {
        "colab": {
          "base_uri": "https://localhost:8080/"
        },
        "id": "JBMuXic6Bxzu",
        "outputId": "fe68172a-83dc-4e4a-8809-ecab97e3c84b"
      },
      "execution_count": 21,
      "outputs": [
        {
          "output_type": "stream",
          "name": "stdout",
          "text": [
            "Мат ожидание для 1: 32.00006845066679\n",
            "Стандартное отклонение для 1: 5.137834241264239\n",
            "Мат ожидание для 2: 64.45172554930326\n",
            "Стандартное отклонение для 2: 10.794338801774522\n",
            "Мат ожидание для 3: 40.36103183995475\n",
            "Стандартное отклонение для 3: 1.4733586255301885\n",
            "Мат ожидание для 4: 70.10565187043179\n",
            "Стандартное отклонение для 4: 1.228434599412414\n"
          ]
        }
      ]
    },
    {
      "cell_type": "code",
      "source": [
        "conf_level=0.95\n",
        "z_crit=1.96\n",
        "from scipy import stats\n",
        "import math\n",
        "t_crit1=stats.t.ppf((1 + conf_level) / 2, n1 - 1)\n",
        "t_crit2=stats.t.ppf((1 + conf_level) / 2, n2 - 2)\n",
        "t_crit3=stats.t.ppf((1 + conf_level) / 2, n3 - 1)\n",
        "t_crit4=stats.t.ppf((1 + conf_level) / 2, n4 - 1)\n",
        "print(t_crit1, t_crit2, t_crit3, t_crit4)"
      ],
      "metadata": {
        "colab": {
          "base_uri": "https://localhost:8080/"
        },
        "id": "AOTb1RysD1dQ",
        "outputId": "bda768f6-4214-4242-e4bb-64ebba92f5c3"
      },
      "execution_count": 24,
      "outputs": [
        {
          "output_type": "stream",
          "name": "stdout",
          "text": [
            "1.9842169515086827 2.306004135204166 1.9842169515086827 2.2621571628540993\n"
          ]
        }
      ]
    },
    {
      "cell_type": "code",
      "source": [
        "err_norm1=z_crit*(stdev1/math.sqrt(n1))\n",
        "lower_norm1=mean1-err_norm1\n",
        "upper_norm1=mean1+err_norm1\n",
        "print(f'Доверительный интервал для норм распределения1: [{lower_norm1}, {upper_norm1}]')\n",
        "\n",
        "err_norm2=z_crit*(stdev2/math.sqrt(n2))\n",
        "lower_norm2=mean2-err_norm2\n",
        "upper_norm2=mean2+err_norm2\n",
        "print(f'Доверительный интервал для норм распределения2: [{lower_norm2}, {upper_norm2}]')\n",
        "\n",
        "err_norm3=z_crit*(stdev3/math.sqrt(n3))\n",
        "lower_norm3=mean3-err_norm3\n",
        "upper_norm3=mean3+err_norm3\n",
        "print(f'Доверительный интервал для норм распределения3: [{lower_norm3}, {upper_norm3}]')\n",
        "\n",
        "err_norm4=z_crit*(stdev4/math.sqrt(n4))\n",
        "lower_norm4=mean4-err_norm4\n",
        "upper_norm4=mean4+err_norm4\n",
        "print(f'Доверительный интервал для норм распределения4: [{lower_norm4}, {upper_norm4}]')"
      ],
      "metadata": {
        "colab": {
          "base_uri": "https://localhost:8080/"
        },
        "id": "xYNVWt4wHlCL",
        "outputId": "6eb7fb8f-e03a-46b8-ab7b-1eaa779bd54c"
      },
      "execution_count": 28,
      "outputs": [
        {
          "output_type": "stream",
          "name": "stdout",
          "text": [
            "Доверительный интервал для норм распределения1: [30.993052939378998, 33.00708396195458]\n",
            "Доверительный интервал для норм распределения2: [57.76132504527177, 71.14212605333476]\n",
            "Доверительный интервал для норм распределения3: [40.07225354935083, 40.64981013055866]\n",
            "Доверительный интервал для норм распределения4: [69.34426021745463, 70.86704352340894]\n"
          ]
        }
      ]
    },
    {
      "cell_type": "code",
      "source": [
        "err_t1=t_crit1*(stdev1/math.sqrt(n1))\n",
        "lower_t1=mean1-err_t1\n",
        "upper_t1=mean1+err_t1\n",
        "print(f'Доверительный интервал для t распределения1: [{lower_t1}, {upper_t1}]')\n",
        "\n",
        "err_t2=t_crit2*(stdev2/math.sqrt(n2))\n",
        "lower_t2=mean2-err_t2\n",
        "upper_t2=mean2+err_t2\n",
        "print(f'Доверительный интервал для t распределения2: [{lower_t2}, {upper_t2}]')\n",
        "\n",
        "err_t3=t_crit3*(stdev3/math.sqrt(n3))\n",
        "lower_t3=mean3-err_t3\n",
        "upper_t3=mean3+err_t3\n",
        "print(f'Доверительный интервал для t распределения3: [{lower_t3}, {upper_t3}]')\n",
        "\n",
        "err_t4=t_crit4*(stdev4/math.sqrt(n4))\n",
        "lower_t4=mean4-err_t4\n",
        "upper_t4=mean4+err_t4\n",
        "print(f'Доверительный интервал для t распределения4: [{lower_t4}, {upper_t4}]')"
      ],
      "metadata": {
        "colab": {
          "base_uri": "https://localhost:8080/"
        },
        "id": "qXuHr-VNKOGu",
        "outputId": "1e406c29-557a-44a4-8cf4-393510e0800b"
      },
      "execution_count": 33,
      "outputs": [
        {
          "output_type": "stream",
          "name": "stdout",
          "text": [
            "Доверительный интервал для t распределения1: [30.980610671110963, 33.01952623022261]\n",
            "Доверительный интервал для t распределения2: [56.580250432737614, 72.32320066586891]\n",
            "Доверительный интервал для t распределения3: [40.068685523911896, 40.6533781559976]\n",
            "Доверительный интервал для t распределения4: [69.22688269618709, 70.98442104467648]\n"
          ]
        }
      ]
    },
    {
      "cell_type": "code",
      "source": [
        "chi2_lower1 = stats.chi2.ppf((1 - conf_level) / 2, n1 - 1)\n",
        "chi2_upper1 = stats.chi2.ppf((1 + conf_level) / 2, n1 - 1)\n",
        "lower_stddev1 = math.sqrt((n1 - 1) * stdev1 ** 2 / chi2_upper1)\n",
        "upper_stddev1 = math.sqrt((n1 - 1) * stdev1 ** 2 / chi2_lower1)\n",
        "print(f' Доверительный интервал для стандартного отклонения1: [{lower_stddev1}, {upper_stddev1}]')\n",
        "\n",
        "chi2_lower2 = stats.chi2.ppf((1 - conf_level) / 2, n2 - 1)\n",
        "chi2_upper2 = stats.chi2.ppf((1 + conf_level) / 2, n2 - 1)\n",
        "lower_stddev2 = math.sqrt((n2 - 1) * stdev2 ** 2 / chi2_upper2)\n",
        "upper_stddev2 = math.sqrt((n2 - 1) * stdev2 ** 2 / chi2_lower2)\n",
        "print(f' Доверительный интервал для стандартного отклонения2: [{lower_stddev2}, {upper_stddev2}]')\n",
        "\n",
        "chi2_lower3 = stats.chi2.ppf((1 - conf_level) / 2, n3 - 1)\n",
        "chi2_upper3 = stats.chi2.ppf((1 + conf_level) / 2, n3 - 1)\n",
        "lower_stddev3 = math.sqrt((n3 - 1) * stdev3 ** 2 / chi2_upper3)\n",
        "upper_stddev3 = math.sqrt((n3 - 1) * stdev3 ** 2 / chi2_lower3)\n",
        "print(f' Доверительный интервал для стандартного отклонения3: [{lower_stddev3}, {upper_stddev3}]')\n",
        "\n",
        "chi2_lower4 = stats.chi2.ppf((1 - conf_level) / 2, n4 - 1)\n",
        "chi2_upper4 = stats.chi2.ppf((1 + conf_level) / 2, n4 - 1)\n",
        "lower_stddev4 = math.sqrt((n4 - 1) * stdev4 ** 2 / chi2_upper4)\n",
        "upper_stddev4 = math.sqrt((n4 - 1) * stdev4 ** 2 / chi2_lower4)\n",
        "print(f' Доверительный интервал для стандартного отклонения4: [{lower_stddev4}, {upper_stddev4}]')"
      ],
      "metadata": {
        "colab": {
          "base_uri": "https://localhost:8080/"
        },
        "id": "7GKbMaElLesU",
        "outputId": "d47fe413-f20e-44f0-b211-51af4045a896"
      },
      "execution_count": 39,
      "outputs": [
        {
          "output_type": "stream",
          "name": "stdout",
          "text": [
            " Доверительный интервал для стандартного отклонения1: [4.511053634380404, 5.96849490388208]\n",
            " Доверительный интервал для стандартного отклонения2: [7.424726261437328, 19.706254830085705]\n",
            " Доверительный интервал для стандартного отклонения3: [1.2936189589503435, 1.7115642574533136]\n",
            " Доверительный интервал для стандартного отклонения4: [0.8449605666644624, 2.2426427132466564]\n"
          ]
        }
      ]
    }
  ]
}